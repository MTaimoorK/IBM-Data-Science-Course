{
  "nbformat": 4,
  "nbformat_minor": 0,
  "metadata": {
    "colab": {
      "provenance": [],
      "authorship_tag": "ABX9TyOE7e+3paXltef4+8MrYxab",
      "include_colab_link": true
    },
    "kernelspec": {
      "name": "python3",
      "display_name": "Python 3"
    },
    "language_info": {
      "name": "python"
    }
  },
  "cells": [
    {
      "cell_type": "markdown",
      "metadata": {
        "id": "view-in-github",
        "colab_type": "text"
      },
      "source": [
        "<a href=\"https://colab.research.google.com/github/MTaimoorK/IBM-Data-Science-Course/blob/main/My%20First%20Jupyter%20Notebook%20For%20Final%20Exam.ipynb\" target=\"_parent\"><img src=\"https://colab.research.google.com/assets/colab-badge.svg\" alt=\"Open In Colab\"/></a>"
      ]
    },
    {
      "cell_type": "markdown",
      "source": [
        "#My Jupter Notebook"
      ],
      "metadata": {
        "id": "w6pUQmoHHjgf"
      }
    },
    {
      "cell_type": "markdown",
      "source": [
        "## This is my notebook for the final exam of my course \"Tools of Data Science\""
      ],
      "metadata": {
        "id": "ZisqjxdmIKgT"
      }
    },
    {
      "cell_type": "markdown",
      "source": [
        "**The Data Science languages are:**\n",
        "1. Python\n",
        "2. R\n",
        "3. SQL\n",
        "4. Julia\n",
        "5. Scala\n",
        "6. MATLAB\n",
        "7. SAS\n",
        "8. Java\n",
        "9. C/C++"
      ],
      "metadata": {
        "id": "sWjNzmTnItGJ"
      }
    },
    {
      "cell_type": "markdown",
      "source": [
        "__The Data Science Libraries Are:__\n",
        "\n",
        "1. NumPy\n",
        "2. Pandas\n",
        "3. Matplotlib\n",
        "4. Seaborn\n",
        "5. scikit-learn\n",
        "6. TensorFlow\n",
        "7. Keras\n",
        "8. PyTorch\n",
        "9. StatsModels\n",
        "10. NLTK (Natural Language Toolkit)\n",
        "11. OpenCV (Open Source Computer Vision Library)\n",
        "12. Spark (Apache Spark)\n",
        "13. Hadoop (Apache Hadoop)\n",
        "\n"
      ],
      "metadata": {
        "id": "0du6VJvRKPS2"
      }
    },
    {
      "cell_type": "markdown",
      "source": [
        "| Data Science Tools |\n",
        "|--------------------|\n",
        "| Jupyter Notebook   |\n",
        "| RStudio            |\n",
        "| Anaconda           |\n",
        "| Spyder             |\n",
        "| PyCharm            |\n",
        "| Visual Studio Code |\n",
        "| Tableau            |\n",
        "| Apache Hadoop      |\n",
        "| Apache Spark       |\n",
        "| Git                |\n"
      ],
      "metadata": {
        "id": "L33hvh2uK7A9"
      }
    },
    {
      "cell_type": "markdown",
      "source": [
        "###__Arithmetic Expression Examples__\n",
        "\n",
        "Arithmetic expressions are used to perform mathematical operations in programming. In Jupyter Notebook, you can write and evaluate arithmetic expressions using various operators and operands.\n",
        "\n",
        "Here are some examples of arithmetic expressions:\n",
        "\n",
        "1. Addition: `2 + 3` equals 5.\n",
        "2. Subtraction: `7 - 4` equals 3.\n",
        "3. Multiplication: `5 * 6` equals 30.\n",
        "4. Division: `10 / 2` equals 5.\n",
        "5. Modulo: `15 % 4` equals 3 (remainder).\n",
        "6. Exponentiation: `2 ** 4` equals 16 (2 raised to the power of 4).\n",
        "\n",
        "These examples demonstrate the basic arithmetic operations that you can perform using arithmetic expressions in Jupyter Notebook.\n"
      ],
      "metadata": {
        "id": "8SIzFfJ2L3UK"
      }
    },
    {
      "cell_type": "code",
      "execution_count": 1,
      "metadata": {
        "colab": {
          "base_uri": "https://localhost:8080/"
        },
        "id": "xYXLcs2JHeSc",
        "outputId": "3f7bf25e-ee4e-4277-d06a-355357561474"
      },
      "outputs": [
        {
          "output_type": "stream",
          "name": "stdout",
          "text": [
            "5\n",
            "10\n"
          ]
        }
      ],
      "source": [
        "#Adding two numbers and printing the result\n",
        "\n",
        "print(2+3)\n",
        "\n",
        "#Multiplying two numbers and printing the result\n",
        "\n",
        "print(5*2)"
      ]
    },
    {
      "cell_type": "code",
      "source": [
        "# Number of minutes\n",
        "total_minutes = 120\n",
        "\n",
        "# Convert minutes to hours\n",
        "hours = total_minutes / 60\n",
        "\n",
        "print(\"Total minutes:\", total_minutes)\n",
        "print(\"Hours:\", hours)\n"
      ],
      "metadata": {
        "colab": {
          "base_uri": "https://localhost:8080/"
        },
        "id": "FKzfEHVtMvXg",
        "outputId": "70be3397-cc39-4e8c-fb5a-29b3f9d0fd71"
      },
      "execution_count": 2,
      "outputs": [
        {
          "output_type": "stream",
          "name": "stdout",
          "text": [
            "Total minutes: 120\n",
            "Hours: 2.0\n"
          ]
        }
      ]
    },
    {
      "cell_type": "markdown",
      "source": [
        "####Objectives performed in the final exam:\n",
        "\n",
        "- Create an ordered list of data science languages.\n",
        "- Create an ordered list of data science libraries.\n",
        "- Create a table of data science tools.\n",
        "- Write a code to multiply and add two integers.\n",
        "- Write a code to convert minutes into hours.\n",
        "- Create an unordered list of the objectives performed.\n"
      ],
      "metadata": {
        "id": "MvsSAxuZOiup"
      }
    },
    {
      "cell_type": "markdown",
      "source": [
        "**Author:**\n",
        "\n",
        "- Name: *Muhammad Taimoor Khan*\n",
        "- Qualification: *Bachelor's of Science in Computer Science*\n",
        "- Country: *Pakistan*\n"
      ],
      "metadata": {
        "id": "bTEI0OnHPbMo"
      }
    },
    {
      "cell_type": "code",
      "source": [],
      "metadata": {
        "id": "WYXoX8-LPC3o"
      },
      "execution_count": null,
      "outputs": []
    }
  ]
}